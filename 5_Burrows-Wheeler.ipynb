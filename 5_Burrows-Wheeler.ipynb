{
 "cells": [
  {
   "cell_type": "code",
   "execution_count": 3,
   "metadata": {},
   "outputs": [],
   "source": [
    "from burrows_wheeler import *"
   ]
  },
  {
   "cell_type": "markdown",
   "metadata": {},
   "source": [
    "# (Forward) Burrows Wheeler Transform"
   ]
  },
  {
   "cell_type": "markdown",
   "metadata": {},
   "source": [
    "## Example 1 : \n",
    "\n",
    "Burrows-Wheeler Transform of a string \n"
   ]
  },
  {
   "cell_type": "code",
   "execution_count": 12,
   "metadata": {},
   "outputs": [
    {
     "name": "stdout",
     "output_type": "stream",
     "text": [
      "banana\n",
      "banana$\n"
     ]
    }
   ],
   "source": [
    "banana = BWT('banana')\n",
    "print(banana.string)\n",
    "print(banana.processed_string)"
   ]
  },
  {
   "cell_type": "code",
   "execution_count": 13,
   "metadata": {},
   "outputs": [
    {
     "name": "stdout",
     "output_type": "stream",
     "text": [
      "[['anana$b']\n",
      " ['nana$ba']\n",
      " ['ana$ban']\n",
      " ['na$bana']\n",
      " ['a$banan']\n",
      " ['$banana']\n",
      " ['banana$']]\n"
     ]
    }
   ],
   "source": [
    "print(banana.permute_matrix(lexical_sort = False))"
   ]
  },
  {
   "cell_type": "code",
   "execution_count": 15,
   "metadata": {},
   "outputs": [
    {
     "name": "stdout",
     "output_type": "stream",
     "text": [
      "[['$banana']\n",
      " ['a$banan']\n",
      " ['ana$ban']\n",
      " ['anana$b']\n",
      " ['banana$']\n",
      " ['na$bana']\n",
      " ['nana$ba']]\n"
     ]
    }
   ],
   "source": [
    "print(banana.permute_matrix(lexical_sort = True))\n",
    "# sorts entries in alphabetical order"
   ]
  },
  {
   "cell_type": "code",
   "execution_count": 17,
   "metadata": {},
   "outputs": [
    {
     "name": "stdout",
     "output_type": "stream",
     "text": [
      "annb$aa\n"
     ]
    }
   ],
   "source": [
    "banana_bwt = banana.bwt()  # gives BWT\n",
    "print(banana_bwt)"
   ]
  },
  {
   "cell_type": "markdown",
   "metadata": {},
   "source": [
    "## Example 2"
   ]
  },
  {
   "cell_type": "code",
   "execution_count": 18,
   "metadata": {},
   "outputs": [],
   "source": [
    "dna = BWT('AAAGAAAAAAAAGGCGCGCGCGCGCGGCTTTT')"
   ]
  },
  {
   "cell_type": "code",
   "execution_count": 19,
   "metadata": {},
   "outputs": [
    {
     "data": {
      "text/plain": [
       "array([['$AAAGAAAAAAAAGGCGCGCGCGCGCGGCTTTT'],\n",
       "       ['AAAAAAAAGGCGCGCGCGCGCGGCTTTT$AAAG'],\n",
       "       ['AAAAAAAGGCGCGCGCGCGCGGCTTTT$AAAGA'],\n",
       "       ['AAAAAAGGCGCGCGCGCGCGGCTTTT$AAAGAA'],\n",
       "       ['AAAAAGGCGCGCGCGCGCGGCTTTT$AAAGAAA'],\n",
       "       ['AAAAGGCGCGCGCGCGCGGCTTTT$AAAGAAAA'],\n",
       "       ['AAAGAAAAAAAAGGCGCGCGCGCGCGGCTTTT$'],\n",
       "       ['AAAGGCGCGCGCGCGCGGCTTTT$AAAGAAAAA'],\n",
       "       ['AAGAAAAAAAAGGCGCGCGCGCGCGGCTTTT$A'],\n",
       "       ['AAGGCGCGCGCGCGCGGCTTTT$AAAGAAAAAA'],\n",
       "       ['AGAAAAAAAAGGCGCGCGCGCGCGGCTTTT$AA'],\n",
       "       ['AGGCGCGCGCGCGCGGCTTTT$AAAGAAAAAAA'],\n",
       "       ['CGCGCGCGCGCGGCTTTT$AAAGAAAAAAAAGG'],\n",
       "       ['CGCGCGCGCGGCTTTT$AAAGAAAAAAAAGGCG'],\n",
       "       ['CGCGCGCGGCTTTT$AAAGAAAAAAAAGGCGCG'],\n",
       "       ['CGCGCGGCTTTT$AAAGAAAAAAAAGGCGCGCG'],\n",
       "       ['CGCGGCTTTT$AAAGAAAAAAAAGGCGCGCGCG'],\n",
       "       ['CGGCTTTT$AAAGAAAAAAAAGGCGCGCGCGCG'],\n",
       "       ['CTTTT$AAAGAAAAAAAAGGCGCGCGCGCGCGG'],\n",
       "       ['GAAAAAAAAGGCGCGCGCGCGCGGCTTTT$AAA'],\n",
       "       ['GCGCGCGCGCGCGGCTTTT$AAAGAAAAAAAAG'],\n",
       "       ['GCGCGCGCGCGGCTTTT$AAAGAAAAAAAAGGC'],\n",
       "       ['GCGCGCGCGGCTTTT$AAAGAAAAAAAAGGCGC'],\n",
       "       ['GCGCGCGGCTTTT$AAAGAAAAAAAAGGCGCGC'],\n",
       "       ['GCGCGGCTTTT$AAAGAAAAAAAAGGCGCGCGC'],\n",
       "       ['GCGGCTTTT$AAAGAAAAAAAAGGCGCGCGCGC'],\n",
       "       ['GCTTTT$AAAGAAAAAAAAGGCGCGCGCGCGCG'],\n",
       "       ['GGCGCGCGCGCGCGGCTTTT$AAAGAAAAAAAA'],\n",
       "       ['GGCTTTT$AAAGAAAAAAAAGGCGCGCGCGCGC'],\n",
       "       ['T$AAAGAAAAAAAAGGCGCGCGCGCGCGGCTTT'],\n",
       "       ['TT$AAAGAAAAAAAAGGCGCGCGCGCGCGGCTT'],\n",
       "       ['TTT$AAAGAAAAAAAAGGCGCGCGCGCGCGGCT'],\n",
       "       ['TTTT$AAAGAAAAAAAAGGCGCGCGCGCGCGGC']], dtype=object)"
      ]
     },
     "execution_count": 19,
     "metadata": {},
     "output_type": "execute_result"
    }
   ],
   "source": [
    "dna.permute_matrix(lexical_sort = True)"
   ]
  },
  {
   "cell_type": "code",
   "execution_count": 21,
   "metadata": {},
   "outputs": [
    {
     "name": "stdout",
     "output_type": "stream",
     "text": [
      "TGAAAA$AAAAAGGGGGGGAGCCCCCGACTTTC\n"
     ]
    }
   ],
   "source": [
    "dna_bwt = dna.bwt()\n",
    "print(dna_bwt)"
   ]
  },
  {
   "cell_type": "markdown",
   "metadata": {},
   "source": [
    "# (Inverse) Burrows Wheeler Transform"
   ]
  },
  {
   "cell_type": "code",
   "execution_count": 25,
   "metadata": {},
   "outputs": [
    {
     "name": "stdout",
     "output_type": "stream",
     "text": [
      "Original string: AAAGAAAAAAAAGGCGCGCGCGCGCGGCTTTT\n",
      "BWT of this string: TGAAAA$AAAAAGGGGGGGAGCCCCCGACTTTC\n"
     ]
    }
   ],
   "source": [
    "# We use the previously saved bwt transform of dna and obtain the original sequence\n",
    "# From the bwt of the string, we obtain the real string (or sequence of characters)\n",
    "\n",
    "print('Original string:',dna.string)\n",
    "print('BWT of this string:',dna_bwt)"
   ]
  },
  {
   "cell_type": "code",
   "execution_count": 29,
   "metadata": {},
   "outputs": [],
   "source": [
    "# Use dna_bwt to obtain the original sequence again\n",
    "\n",
    "# Step 1 : Obtain the Permutation matrix\n",
    "dnabwt = BWT(dna_bwt)\n",
    "ibwt_dna_bwt_mat = dnabwt.ibwt_matrix() "
   ]
  },
  {
   "cell_type": "code",
   "execution_count": 32,
   "metadata": {},
   "outputs": [
    {
     "name": "stdout",
     "output_type": "stream",
     "text": [
      "[['$AAAGAAAAAAAAGGCGCGCGCGCGCGGCTTTT']\n",
      " ['AAAAAAAAGGCGCGCGCGCGCGGCTTTT$AAAG']\n",
      " ['AAAAAAAGGCGCGCGCGCGCGGCTTTT$AAAGA']\n",
      " ['AAAAAAGGCGCGCGCGCGCGGCTTTT$AAAGAA']\n",
      " ['AAAAAGGCGCGCGCGCGCGGCTTTT$AAAGAAA']\n",
      " ['AAAAGGCGCGCGCGCGCGGCTTTT$AAAGAAAA']\n",
      " ['AAAGAAAAAAAAGGCGCGCGCGCGCGGCTTTT$']\n",
      " ['AAAGGCGCGCGCGCGCGGCTTTT$AAAGAAAAA']\n",
      " ['AAGAAAAAAAAGGCGCGCGCGCGCGGCTTTT$A']\n",
      " ['AAGGCGCGCGCGCGCGGCTTTT$AAAGAAAAAA']\n",
      " ['AGAAAAAAAAGGCGCGCGCGCGCGGCTTTT$AA']\n",
      " ['AGGCGCGCGCGCGCGGCTTTT$AAAGAAAAAAA']\n",
      " ['CGCGCGCGCGCGGCTTTT$AAAGAAAAAAAAGG']\n",
      " ['CGCGCGCGCGGCTTTT$AAAGAAAAAAAAGGCG']\n",
      " ['CGCGCGCGGCTTTT$AAAGAAAAAAAAGGCGCG']\n",
      " ['CGCGCGGCTTTT$AAAGAAAAAAAAGGCGCGCG']\n",
      " ['CGCGGCTTTT$AAAGAAAAAAAAGGCGCGCGCG']\n",
      " ['CGGCTTTT$AAAGAAAAAAAAGGCGCGCGCGCG']\n",
      " ['CTTTT$AAAGAAAAAAAAGGCGCGCGCGCGCGG']\n",
      " ['GAAAAAAAAGGCGCGCGCGCGCGGCTTTT$AAA']\n",
      " ['GCGCGCGCGCGCGGCTTTT$AAAGAAAAAAAAG']\n",
      " ['GCGCGCGCGCGGCTTTT$AAAGAAAAAAAAGGC']\n",
      " ['GCGCGCGCGGCTTTT$AAAGAAAAAAAAGGCGC']\n",
      " ['GCGCGCGGCTTTT$AAAGAAAAAAAAGGCGCGC']\n",
      " ['GCGCGGCTTTT$AAAGAAAAAAAAGGCGCGCGC']\n",
      " ['GCGGCTTTT$AAAGAAAAAAAAGGCGCGCGCGC']\n",
      " ['GCTTTT$AAAGAAAAAAAAGGCGCGCGCGCGCG']\n",
      " ['GGCGCGCGCGCGCGGCTTTT$AAAGAAAAAAAA']\n",
      " ['GGCTTTT$AAAGAAAAAAAAGGCGCGCGCGCGC']\n",
      " ['T$AAAGAAAAAAAAGGCGCGCGCGCGCGGCTTT']\n",
      " ['TT$AAAGAAAAAAAAGGCGCGCGCGCGCGGCTT']\n",
      " ['TTT$AAAGAAAAAAAAGGCGCGCGCGCGCGGCT']\n",
      " ['TTTT$AAAGAAAAAAAAGGCGCGCGCGCGCGGC']]\n"
     ]
    }
   ],
   "source": [
    "print(ibwt_dna_bwt_mat)\n",
    "# same as original matrix"
   ]
  },
  {
   "cell_type": "code",
   "execution_count": 35,
   "metadata": {},
   "outputs": [
    {
     "name": "stdout",
     "output_type": "stream",
     "text": [
      "AAAGAAAAAAAAGGCGCGCGCGCGCGGCTTTT$\n"
     ]
    }
   ],
   "source": [
    "ibwt_dnabwt = dnabwt.ibwt()\n",
    "\n",
    "print(ibwt_dnabwt)  # We get back the original string"
   ]
  },
  {
   "cell_type": "markdown",
   "metadata": {},
   "source": [
    "## Example 3"
   ]
  },
  {
   "cell_type": "code",
   "execution_count": 41,
   "metadata": {},
   "outputs": [
    {
     "name": "stdout",
     "output_type": "stream",
     "text": [
      "New word: MISSISSIPPI\n",
      "BWT of new word: IPSSM$PISSII\n"
     ]
    }
   ],
   "source": [
    "miss = BWT('MISSISSIPPI')\n",
    "miss_bwt = miss.bwt()\n",
    "\n",
    "print('New word:',miss.string)\n",
    "print('BWT of new word:',miss_bwt)"
   ]
  },
  {
   "cell_type": "code",
   "execution_count": 43,
   "metadata": {},
   "outputs": [
    {
     "name": "stdout",
     "output_type": "stream",
     "text": [
      "Inverse Burrows Wheeler Transform: MISSISSIPPI$\n"
     ]
    }
   ],
   "source": [
    "# Inverse bwt of 'IPSSM$PISSII'\n",
    "\n",
    "miss_ibwt = BWT('IPSSM$PISSII').ibwt()\n",
    "print('Inverse Burrows Wheeler Transform:',miss_ibwt)"
   ]
  }
 ],
 "metadata": {
  "kernelspec": {
   "display_name": "Python 3",
   "language": "python",
   "name": "python3"
  },
  "language_info": {
   "codemirror_mode": {
    "name": "ipython",
    "version": 3
   },
   "file_extension": ".py",
   "mimetype": "text/x-python",
   "name": "python",
   "nbconvert_exporter": "python",
   "pygments_lexer": "ipython3",
   "version": "3.8.5"
  }
 },
 "nbformat": 4,
 "nbformat_minor": 4
}
