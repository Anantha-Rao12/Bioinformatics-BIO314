{
 "cells": [
  {
   "cell_type": "code",
   "execution_count": 1,
   "metadata": {},
   "outputs": [],
   "source": [
    "from burrows_wheeler import *"
   ]
  },
  {
   "cell_type": "markdown",
   "metadata": {},
   "source": [
    "# (Forward) Burrows Wheeler Transform"
   ]
  },
  {
   "cell_type": "markdown",
   "metadata": {},
   "source": [
    "## Example 1 : \n",
    "\n",
    "Burrows-Wheeler Transform of a string \n"
   ]
  },
  {
   "cell_type": "code",
   "execution_count": 2,
   "metadata": {},
   "outputs": [
    {
     "name": "stdout",
     "output_type": "stream",
     "text": [
      "banana\n",
      "banana$\n"
     ]
    }
   ],
   "source": [
    "banana = BWT('banana')\n",
    "print(banana.string)  # returns the string attribute of that object\n",
    "print(banana.processed_string) # the processed string that contains a '$' to signify eos"
   ]
  },
  {
   "cell_type": "code",
   "execution_count": 3,
   "metadata": {},
   "outputs": [
    {
     "name": "stdout",
     "output_type": "stream",
     "text": [
      "[['anana$b']\n",
      " ['nana$ba']\n",
      " ['ana$ban']\n",
      " ['na$bana']\n",
      " ['a$banan']\n",
      " ['$banana']\n",
      " ['banana$']]\n"
     ]
    }
   ],
   "source": [
    "print(banana.bwt_matrix(lexical_sort = False))"
   ]
  },
  {
   "cell_type": "code",
   "execution_count": 4,
   "metadata": {},
   "outputs": [
    {
     "name": "stdout",
     "output_type": "stream",
     "text": [
      "[['$banana']\n",
      " ['a$banan']\n",
      " ['ana$ban']\n",
      " ['anana$b']\n",
      " ['banana$']\n",
      " ['na$bana']\n",
      " ['nana$ba']]\n"
     ]
    }
   ],
   "source": [
    "print(banana.bwt_matrix(lexical_sort = True))\n",
    "# sorts entries in alphabetical order"
   ]
  },
  {
   "cell_type": "code",
   "execution_count": 5,
   "metadata": {},
   "outputs": [
    {
     "name": "stdout",
     "output_type": "stream",
     "text": [
      "annb$aa\n"
     ]
    }
   ],
   "source": [
    "banana_bwt = banana.bwt()  # gives BWT\n",
    "print(banana_bwt)"
   ]
  },
  {
   "cell_type": "markdown",
   "metadata": {},
   "source": [
    "## Example 2"
   ]
  },
  {
   "cell_type": "code",
   "execution_count": 6,
   "metadata": {},
   "outputs": [],
   "source": [
    "dna = BWT('AAAGAAAAAAAAGGCGCGCGCGCGCGGCTTTT')"
   ]
  },
  {
   "cell_type": "code",
   "execution_count": 7,
   "metadata": {},
   "outputs": [
    {
     "data": {
      "text/plain": [
       "array([['$AAAGAAAAAAAAGGCGCGCGCGCGCGGCTTTT'],\n",
       "       ['AAAAAAAAGGCGCGCGCGCGCGGCTTTT$AAAG'],\n",
       "       ['AAAAAAAGGCGCGCGCGCGCGGCTTTT$AAAGA'],\n",
       "       ['AAAAAAGGCGCGCGCGCGCGGCTTTT$AAAGAA'],\n",
       "       ['AAAAAGGCGCGCGCGCGCGGCTTTT$AAAGAAA'],\n",
       "       ['AAAAGGCGCGCGCGCGCGGCTTTT$AAAGAAAA'],\n",
       "       ['AAAGAAAAAAAAGGCGCGCGCGCGCGGCTTTT$'],\n",
       "       ['AAAGGCGCGCGCGCGCGGCTTTT$AAAGAAAAA'],\n",
       "       ['AAGAAAAAAAAGGCGCGCGCGCGCGGCTTTT$A'],\n",
       "       ['AAGGCGCGCGCGCGCGGCTTTT$AAAGAAAAAA'],\n",
       "       ['AGAAAAAAAAGGCGCGCGCGCGCGGCTTTT$AA'],\n",
       "       ['AGGCGCGCGCGCGCGGCTTTT$AAAGAAAAAAA'],\n",
       "       ['CGCGCGCGCGCGGCTTTT$AAAGAAAAAAAAGG'],\n",
       "       ['CGCGCGCGCGGCTTTT$AAAGAAAAAAAAGGCG'],\n",
       "       ['CGCGCGCGGCTTTT$AAAGAAAAAAAAGGCGCG'],\n",
       "       ['CGCGCGGCTTTT$AAAGAAAAAAAAGGCGCGCG'],\n",
       "       ['CGCGGCTTTT$AAAGAAAAAAAAGGCGCGCGCG'],\n",
       "       ['CGGCTTTT$AAAGAAAAAAAAGGCGCGCGCGCG'],\n",
       "       ['CTTTT$AAAGAAAAAAAAGGCGCGCGCGCGCGG'],\n",
       "       ['GAAAAAAAAGGCGCGCGCGCGCGGCTTTT$AAA'],\n",
       "       ['GCGCGCGCGCGCGGCTTTT$AAAGAAAAAAAAG'],\n",
       "       ['GCGCGCGCGCGGCTTTT$AAAGAAAAAAAAGGC'],\n",
       "       ['GCGCGCGCGGCTTTT$AAAGAAAAAAAAGGCGC'],\n",
       "       ['GCGCGCGGCTTTT$AAAGAAAAAAAAGGCGCGC'],\n",
       "       ['GCGCGGCTTTT$AAAGAAAAAAAAGGCGCGCGC'],\n",
       "       ['GCGGCTTTT$AAAGAAAAAAAAGGCGCGCGCGC'],\n",
       "       ['GCTTTT$AAAGAAAAAAAAGGCGCGCGCGCGCG'],\n",
       "       ['GGCGCGCGCGCGCGGCTTTT$AAAGAAAAAAAA'],\n",
       "       ['GGCTTTT$AAAGAAAAAAAAGGCGCGCGCGCGC'],\n",
       "       ['T$AAAGAAAAAAAAGGCGCGCGCGCGCGGCTTT'],\n",
       "       ['TT$AAAGAAAAAAAAGGCGCGCGCGCGCGGCTT'],\n",
       "       ['TTT$AAAGAAAAAAAAGGCGCGCGCGCGCGGCT'],\n",
       "       ['TTTT$AAAGAAAAAAAAGGCGCGCGCGCGCGGC']], dtype=object)"
      ]
     },
     "execution_count": 7,
     "metadata": {},
     "output_type": "execute_result"
    }
   ],
   "source": [
    "dna.bwt_matrix(lexical_sort = True)"
   ]
  },
  {
   "cell_type": "code",
   "execution_count": 8,
   "metadata": {},
   "outputs": [
    {
     "name": "stdout",
     "output_type": "stream",
     "text": [
      "TGAAAA$AAAAAGGGGGGGAGCCCCCGACTTTC\n"
     ]
    }
   ],
   "source": [
    "dna_bwt = dna.bwt()\n",
    "print(dna_bwt)"
   ]
  },
  {
   "cell_type": "markdown",
   "metadata": {},
   "source": [
    "# (Inverse) Burrows Wheeler Transform"
   ]
  },
  {
   "cell_type": "code",
   "execution_count": 9,
   "metadata": {},
   "outputs": [
    {
     "name": "stdout",
     "output_type": "stream",
     "text": [
      "Original string: AAAGAAAAAAAAGGCGCGCGCGCGCGGCTTTT\n",
      "BWT of this string: TGAAAA$AAAAAGGGGGGGAGCCCCCGACTTTC\n"
     ]
    }
   ],
   "source": [
    "# We use the previously saved bwt transform of dna and obtain the original sequence\n",
    "# From the bwt of the string, we obtain the real string (or sequence of characters)\n",
    "\n",
    "print('Original string:',dna.string)\n",
    "print('BWT of this string:',dna_bwt)"
   ]
  },
  {
   "cell_type": "code",
   "execution_count": 10,
   "metadata": {},
   "outputs": [],
   "source": [
    "# Use dna_bwt to obtain the original sequence again\n",
    "\n",
    "# Step 1 : Obtain the Permutation matrix\n",
    "dnabwt = BWT(dna_bwt)\n",
    "ibwt_dna_bwt_mat = dnabwt.ibwt_matrix() "
   ]
  },
  {
   "cell_type": "code",
   "execution_count": 11,
   "metadata": {},
   "outputs": [
    {
     "name": "stdout",
     "output_type": "stream",
     "text": [
      "[['$AAAGAAAAAAAAGGCGCGCGCGCGCGGCTTTT']\n",
      " ['AAAAAAAAGGCGCGCGCGCGCGGCTTTT$AAAG']\n",
      " ['AAAAAAAGGCGCGCGCGCGCGGCTTTT$AAAGA']\n",
      " ['AAAAAAGGCGCGCGCGCGCGGCTTTT$AAAGAA']\n",
      " ['AAAAAGGCGCGCGCGCGCGGCTTTT$AAAGAAA']\n",
      " ['AAAAGGCGCGCGCGCGCGGCTTTT$AAAGAAAA']\n",
      " ['AAAGAAAAAAAAGGCGCGCGCGCGCGGCTTTT$']\n",
      " ['AAAGGCGCGCGCGCGCGGCTTTT$AAAGAAAAA']\n",
      " ['AAGAAAAAAAAGGCGCGCGCGCGCGGCTTTT$A']\n",
      " ['AAGGCGCGCGCGCGCGGCTTTT$AAAGAAAAAA']\n",
      " ['AGAAAAAAAAGGCGCGCGCGCGCGGCTTTT$AA']\n",
      " ['AGGCGCGCGCGCGCGGCTTTT$AAAGAAAAAAA']\n",
      " ['CGCGCGCGCGCGGCTTTT$AAAGAAAAAAAAGG']\n",
      " ['CGCGCGCGCGGCTTTT$AAAGAAAAAAAAGGCG']\n",
      " ['CGCGCGCGGCTTTT$AAAGAAAAAAAAGGCGCG']\n",
      " ['CGCGCGGCTTTT$AAAGAAAAAAAAGGCGCGCG']\n",
      " ['CGCGGCTTTT$AAAGAAAAAAAAGGCGCGCGCG']\n",
      " ['CGGCTTTT$AAAGAAAAAAAAGGCGCGCGCGCG']\n",
      " ['CTTTT$AAAGAAAAAAAAGGCGCGCGCGCGCGG']\n",
      " ['GAAAAAAAAGGCGCGCGCGCGCGGCTTTT$AAA']\n",
      " ['GCGCGCGCGCGCGGCTTTT$AAAGAAAAAAAAG']\n",
      " ['GCGCGCGCGCGGCTTTT$AAAGAAAAAAAAGGC']\n",
      " ['GCGCGCGCGGCTTTT$AAAGAAAAAAAAGGCGC']\n",
      " ['GCGCGCGGCTTTT$AAAGAAAAAAAAGGCGCGC']\n",
      " ['GCGCGGCTTTT$AAAGAAAAAAAAGGCGCGCGC']\n",
      " ['GCGGCTTTT$AAAGAAAAAAAAGGCGCGCGCGC']\n",
      " ['GCTTTT$AAAGAAAAAAAAGGCGCGCGCGCGCG']\n",
      " ['GGCGCGCGCGCGCGGCTTTT$AAAGAAAAAAAA']\n",
      " ['GGCTTTT$AAAGAAAAAAAAGGCGCGCGCGCGC']\n",
      " ['T$AAAGAAAAAAAAGGCGCGCGCGCGCGGCTTT']\n",
      " ['TT$AAAGAAAAAAAAGGCGCGCGCGCGCGGCTT']\n",
      " ['TTT$AAAGAAAAAAAAGGCGCGCGCGCGCGGCT']\n",
      " ['TTTT$AAAGAAAAAAAAGGCGCGCGCGCGCGGC']]\n"
     ]
    }
   ],
   "source": [
    "print(ibwt_dna_bwt_mat)\n",
    "# same as original matrix"
   ]
  },
  {
   "cell_type": "code",
   "execution_count": 12,
   "metadata": {},
   "outputs": [
    {
     "name": "stdout",
     "output_type": "stream",
     "text": [
      "AAAGAAAAAAAAGGCGCGCGCGCGCGGCTTTT$\n"
     ]
    }
   ],
   "source": [
    "ibwt_dnabwt = dnabwt.ibwt()\n",
    "\n",
    "print(ibwt_dnabwt)  # We get back the original string"
   ]
  },
  {
   "cell_type": "markdown",
   "metadata": {},
   "source": [
    "## Example 3"
   ]
  },
  {
   "cell_type": "code",
   "execution_count": 13,
   "metadata": {},
   "outputs": [
    {
     "name": "stdout",
     "output_type": "stream",
     "text": [
      "New word: MISSISSIPPI\n",
      "BWT of new word: IPSSM$PISSII\n"
     ]
    }
   ],
   "source": [
    "miss = BWT('MISSISSIPPI')\n",
    "miss_bwt = miss.bwt()\n",
    "\n",
    "print('New word:',miss.string)\n",
    "print('BWT of new word:',miss_bwt)"
   ]
  },
  {
   "cell_type": "code",
   "execution_count": 14,
   "metadata": {},
   "outputs": [
    {
     "name": "stdout",
     "output_type": "stream",
     "text": [
      "Inverse Burrows Wheeler Transform: MISSISSIPPI$\n"
     ]
    }
   ],
   "source": [
    "# Inverse bwt of 'IPSSM$PISSII'\n",
    "\n",
    "miss_ibwt = BWT('IPSSM$PISSII').ibwt()\n",
    "print('Inverse Burrows Wheeler Transform:',miss_ibwt)"
   ]
  },
  {
   "cell_type": "markdown",
   "metadata": {},
   "source": [
    "## Example 4\n",
    "\n",
    "Is the BWT of a Palindrome the same ?"
   ]
  },
  {
   "cell_type": "code",
   "execution_count": 15,
   "metadata": {},
   "outputs": [
    {
     "name": "stdout",
     "output_type": "stream",
     "text": [
      "RRDAA$\n"
     ]
    }
   ],
   "source": [
    "str1 = 'RADAR'  # odd palindrome\n",
    "str1_bwt = BWT(str1).bwt()\n",
    "print(str1_bwt)"
   ]
  },
  {
   "cell_type": "code",
   "execution_count": 18,
   "metadata": {},
   "outputs": [
    {
     "name": "stdout",
     "output_type": "stream",
     "text": [
      "MYMLLAAA$A\n"
     ]
    }
   ],
   "source": [
    "str2 = 'MALAYALAM'# odd palindrome\n",
    "str2_bwt = BWT(str2).bwt()\n",
    "print(str2_bwt)"
   ]
  },
  {
   "cell_type": "code",
   "execution_count": 16,
   "metadata": {},
   "outputs": [
    {
     "name": "stdout",
     "output_type": "stream",
     "text": [
      "TTTAT$A\n"
     ]
    }
   ],
   "source": [
    "str3 = 'TATTAT' # even palindrome\n",
    "str3_bwt = BWT(str3).bwt()\n",
    "print(str3_bwt)"
   ]
  },
  {
   "cell_type": "code",
   "execution_count": 17,
   "metadata": {},
   "outputs": [
    {
     "name": "stdout",
     "output_type": "stream",
     "text": [
      "AAAAB$AAABBCABBCDBCDC\n"
     ]
    }
   ],
   "source": [
    "str4 = 'AAAABBBCCDDCCBBBAAAA'\n",
    "str4_bwt = BWT(str4).bwt()\n",
    "print(str4_bwt)"
   ]
  },
  {
   "cell_type": "code",
   "execution_count": 19,
   "metadata": {},
   "outputs": [
    {
     "data": {
      "text/plain": [
       "array([['$AAAABBBCCDDCCBBBAAAA'],\n",
       "       ['A$AAAABBBCCDDCCBBBAAA'],\n",
       "       ['AA$AAAABBBCCDDCCBBBAA'],\n",
       "       ['AAA$AAAABBBCCDDCCBBBA'],\n",
       "       ['AAAA$AAAABBBCCDDCCBBB'],\n",
       "       ['AAAABBBCCDDCCBBBAAAA$'],\n",
       "       ['AAABBBCCDDCCBBBAAAA$A'],\n",
       "       ['AABBBCCDDCCBBBAAAA$AA'],\n",
       "       ['ABBBCCDDCCBBBAAAA$AAA'],\n",
       "       ['BAAAA$AAAABBBCCDDCCBB'],\n",
       "       ['BBAAAA$AAAABBBCCDDCCB'],\n",
       "       ['BBBAAAA$AAAABBBCCDDCC'],\n",
       "       ['BBBCCDDCCBBBAAAA$AAAA'],\n",
       "       ['BBCCDDCCBBBAAAA$AAAAB'],\n",
       "       ['BCCDDCCBBBAAAA$AAAABB'],\n",
       "       ['CBBBAAAA$AAAABBBCCDDC'],\n",
       "       ['CCBBBAAAA$AAAABBBCCDD'],\n",
       "       ['CCDDCCBBBAAAA$AAAABBB'],\n",
       "       ['CDDCCBBBAAAA$AAAABBBC'],\n",
       "       ['DCCBBBAAAA$AAAABBBCCD'],\n",
       "       ['DDCCBBBAAAA$AAAABBBCC']], dtype=object)"
      ]
     },
     "execution_count": 19,
     "metadata": {},
     "output_type": "execute_result"
    }
   ],
   "source": [
    "BWT(str4).bwt_matrix(True)"
   ]
  },
  {
   "cell_type": "code",
   "execution_count": 20,
   "metadata": {},
   "outputs": [
    {
     "data": {
      "text/plain": [
       "'AAAABBBCCDDCCBBBAAAA$'"
      ]
     },
     "execution_count": 20,
     "metadata": {},
     "output_type": "execute_result"
    }
   ],
   "source": [
    "# Obtaining the ibwt of the previous result\n",
    "BWT('AAAAB$AAABBCABBCDBCDC').ibwt()"
   ]
  },
  {
   "cell_type": "markdown",
   "metadata": {},
   "source": [
    "# Voila !\n",
    "\n",
    "- The BWT of a palindrone seems not to be related to the sequence :( "
   ]
  }
 ],
 "metadata": {
  "kernelspec": {
   "display_name": "Python 3",
   "language": "python",
   "name": "python3"
  },
  "language_info": {
   "codemirror_mode": {
    "name": "ipython",
    "version": 3
   },
   "file_extension": ".py",
   "mimetype": "text/x-python",
   "name": "python",
   "nbconvert_exporter": "python",
   "pygments_lexer": "ipython3",
   "version": "3.8.5"
  }
 },
 "nbformat": 4,
 "nbformat_minor": 4
}
